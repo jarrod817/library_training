{
 "cells": [
  {
   "cell_type": "markdown",
   "id": "b1eb0a94-25cb-494b-93dd-c49784e9d18d",
   "metadata": {
    "editable": true,
    "slideshow": {
     "slide_type": "slide"
    },
    "tags": []
   },
   "source": [
    "# Python for Beginners\n",
    "\n",
    "## My name is Jarrod Hamilton\n",
    "\n",
    "### Linkedin: https://www.linkedin.com/in/jarrodhamilton/\n"
   ]
  },
  {
   "cell_type": "markdown",
   "id": "4838d9a6-c365-4760-b0f7-214abe16a836",
   "metadata": {
    "editable": true,
    "slideshow": {
     "slide_type": "slide"
    },
    "tags": []
   },
   "source": [
    "# What is Python\n",
    "\n",
    "## Python was created by Guido van Rossum\n",
    "From Wikipedia:\n",
    "In December 1989, Van Rossum had been looking for a \"'hobby' programming project that would keep him occupied during the week around Christmas\" as his office was closed when he decided to write an interpreter for a \"new scripting language he had been thinking about lately: a descendant of ABC that would appeal to Unix/C hackers\". He chose the name Python for his programming language not because of the snake type but the comedy series Monty Python's Flying Circus. \n",
    "\n",
    "## It's a general purpose programming language that can be used for everything between web development, data science, automation and way more.\n",
    "\n",
    "## World best #2 language\n",
    "\n",
    "\"And now for something completely different.\""
   ]
  },
  {
   "cell_type": "markdown",
   "id": "0603883a-053a-42a4-b6cb-0c5a8aa2f524",
   "metadata": {
    "editable": true,
    "slideshow": {
     "slide_type": "slide"
    },
    "tags": []
   },
   "source": [
    "# Free Learning Resources\n",
    "\n",
    "## Comprehensive Courses\n",
    "- Python For Everybody: https://www.py4e.com/\n",
    "- Automate the Boring Stuff: https://automatetheboringstuff.com/\n",
    "- Official Python Tutorial: https://docs.python.org/3/tutorial/\n",
    "- Real Python: https://realpython.com/ - Excellent tutorials and articles\n",
    "- Python Crash Course Resources: https://ehmatthes.github.io/pcc/ - Book companion site\n",
    "- Think Python: https://greenteapress.com/wp/think-python-2e/ - Free online book\n",
    "- Learn Python the Hard Way: https://learnpythonthehardway.org/python3/ - First few lessons free\n",
    "\n",
    "## Video Learning\n",
    "- Python Programming Tutorials - Corey Schafer: https://www.youtube.com/user/schafer5 - YouTube channel\n",
    "- Programming with Mosh: https://www.youtube.com/watch?v=_uQrJ0TkZlc - 6-hour Python tutorial\n",
    "- freeCodeCamp Python Course: https://www.youtube.com/watch?v=rfscVS0vtbw - 4.5-hour beginner course\n",
    "- CS50's Introduction to Programming with Python: https://cs50.harvard.edu/python/2022/ - Harvard's free course\n",
    "\n",
    "## Documentation & References\n",
    "- Python.org Documentation: https://docs.python.org/3/\n",
    "- Python Module of the Week: https://pymotw.com/3/ - Standard library examples\n",
    "- Python Cheat Sheet: https://www.pythoncheatsheet.org/\n"
   ]
  },
  {
   "cell_type": "markdown",
   "id": "aff2501e-aef3-471d-8a76-7c62376c1440",
   "metadata": {
    "editable": true,
    "slideshow": {
     "slide_type": "slide"
    },
    "tags": []
   },
   "source": [
    "# Interactive Coding Exercises\n",
    "\n",
    "## Free Platforms\n",
    "- Advent of Code: https://adventofcode.com/ (Especially fun and challenging)\n",
    "- Python Challenge: http://www.pythonchallenge.com/ - Riddle-based programming puzzles\n",
    "- Exercism: https://exercism.org/tracks/python - Mentored code practice\n",
    "- Codewars: https://www.codewars.com/ - Kata-style challenges\n",
    "- Project Euler: https://projecteuler.net/ - Mathematical programming problems\n",
    "- CheckiO: https://checkio.org/ - Game-like coding challenges\n",
    "- Coding Bat: https://codingbat.com/python - Simple practice problems\n",
    "\n",
    "## Subscription/Premium (with free tiers)\n",
    "- Codecademy Python Course: https://www.codecademy.com/learn/learn-python-3\n",
    "- LeetCode: https://leetcode.com/\n",
    "- HackerRank Python Domain: https://www.hackerrank.com/domains/python\n",
    "- DataCamp: https://www.datacamp.com/ - Data science focus\n",
    "\n",
    "## Jupyter-Specific Resources\n",
    "- Jupyter Notebook Gallery: https://github.com/jupyter/jupyter/wiki/A-gallery-of-interesting-Jupyter-Notebooks\n",
    "- Python Data Science Handbook: https://jakevdp.github.io/PythonDataScienceHandbook/ - Free online with notebooks\n",
    "- Jupyter Tutorial: https://jupyter-notebook.readthedocs.io/en/stable/\n"
   ]
  },
  {
   "cell_type": "markdown",
   "id": "0bb0e7c0-ed13-483e-b976-061915fb55ac",
   "metadata": {
    "editable": true,
    "slideshow": {
     "slide_type": "slide"
    },
    "tags": []
   },
   "source": [
    "# AI - Biggest Thing You Should Be Using\n",
    "\n",
    "## AI For Learning\n",
    "- Don't just use for code generation, use it to teach you how to code.\n",
    "- Don't expect it to be right on first try, it's an iterative thing.\n",
    "- Ask for daily drills, practice problems, quizzes or deep dives into specific topics\n",
    "- Ask AI for code reviews to highlight where you can improve\n",
    "\n",
    "# AI for Working\n",
    "### Agents can be independent where you ask them to go off to perform some set of tasks like:\n",
    "- Write documentation for your project\n",
    "- Do code reviews\n",
    "- Write tests and run them\n",
    "- Refactor legacy code\n",
    "- Generate sample data for testing\n",
    "- Create API documentation\n",
    "- Explain complex algorithms step-by-step\n",
    "- More! See OpenAI's Codex and GitHub Copilot Workspace\n",
    "\n"
   ]
  },
  {
   "cell_type": "markdown",
   "id": "1e5e7c58-1fb7-42ee-bdff-a84e3730eaa0",
   "metadata": {},
   "source": [
    "## Best Practices for Learning with AI\n",
    "### Do:\n",
    "- Complicated solutions will take multiple attempts (have grit)\n",
    "- Ask for explanations, not just solutions\n",
    "- Request step-by-step breakdowns\n",
    "- Ask for alternative approaches\n",
    "- Use AI to generate practice problems\n",
    "- Have AI review and critique your code\n",
    "\n",
    "### Don't:\n",
    "- Copy-paste without understanding\n",
    "- Rely solely on AI for learning fundamentals\n",
    "- Skip manual practice and problem-solving\n",
    "- Ignore the importance of debugging skills\n",
    "- Forget to verify AI-generated code"
   ]
  },
  {
   "cell_type": "markdown",
   "id": "16df260a-5cce-42a2-a13f-567fca2eb6f6",
   "metadata": {
    "editable": true,
    "slideshow": {
     "slide_type": "slide"
    },
    "tags": []
   },
   "source": [
    "## Large Language Models\n",
    "### Claude.ai: https://claude.ai (personal fav)\n",
    "- Excellent for code explanation and debugging\n",
    "- Great at breaking down complex problems\n",
    "- Strong reasoning capabilities\n",
    "\n",
    "### ChatGPT: https://chatgpt.com/\n",
    "- Most popular, extensive training data\n",
    "- Good for general programming help\n",
    "- Code interpreter for running Python\n",
    "\n",
    "### Google Gemini: https://gemini.google.com/app\n",
    "- Integrated with Google services\n",
    "- Good multimodal capabilities\n",
    "- Free tier available\n",
    "\n",
    "### Other Notable Options:\n",
    "- Perplexity: https://perplexity.ai - Great for research and citations\n",
    "- Microsoft Copilot: https://copilot.microsoft.com/ - Integrated with Microsoft ecosystem\n",
    "- Meta AI: https://ai.meta.com/ - Free and capable\n",
    "- Anthropic Claude: https://claude.ai - Safety-focused, excellent reasoning\n",
    "- Cohere: https://cohere.com/ - Enterprise-focused\n",
    "- Mistral AI: https://mistral.ai/ - European alternative\n",
    "- Ollama: https://ollama.ai/ - Run models locally\n"
   ]
  },
  {
   "cell_type": "markdown",
   "id": "0f3a77a8-4a1e-4909-916a-8f7d9207f789",
   "metadata": {
    "editable": true,
    "slideshow": {
     "slide_type": "slide"
    },
    "tags": []
   },
   "source": [
    "## IDE Extensions & AI-Powered Editors\n",
    "### GitHub Copilot: https://github.com/features/copilot\n",
    "- Most mature AI coding assistant\n",
    "- Excellent autocomplete and suggestions\n",
    "- Integrated chat for explanations\n",
    "\n",
    "### Cursor: https://cursor.sh/\n",
    "- AI-first code editor (VS Code fork)\n",
    "- Natural language editing\n",
    "- Codebase-aware AI\n",
    "\n",
    "### Cline: https://github.com/cline/cline\n",
    "- VS Code extension for autonomous coding\n",
    "- Can edit files, run commands, browse web\n",
    "- Great for complex multi-file tasks\n",
    "\n",
    "### Windsurf: https://codeium.com/windsurf\n",
    "- AI-native IDE by Codeium\n",
    "- Real-time collaboration with AI\n",
    "- Multi-file editing capabilities\n",
    "\n",
    "### Other Popular Extensions:\n",
    "- Amazon Q Developer: https://aws.amazon.com/q/developer/ - AWS integration\n",
    "- Tabnine: https://www.tabnine.com/ - Privacy-focused, local models\n",
    "- Supermaven: https://supermaven.com/ - Fast autocomplete\n",
    "- JetBrains AI Assistant: https://www.jetbrains.com/ai/ - For IntelliJ, PyCharm, etc.\n",
    "- Codeium: https://codeium.com/ - Free alternative to Copilot\n",
    "- CodeWhisperer: https://aws.amazon.com/codewhisperer/ - Amazon's coding assistant\n",
    "\n",
    "### Testing & Quality Assurance\n",
    "- **Unit Test Generation**: Most AI tools can generate comprehensive test suites\n",
    "- **Code Review**: Automated suggestions for improvements\n",
    "- **Bug Detection**: AI can spot potential issues before runtime\n",
    "- **Performance Optimization**: Suggestions for more efficient code\n"
   ]
  },
  {
   "cell_type": "markdown",
   "id": "82b07987-aeef-438e-9445-fe0db1d9ace1",
   "metadata": {
    "editable": true,
    "slideshow": {
     "slide_type": "slide"
    },
    "tags": []
   },
   "source": [
    "# Installing Python\n",
    "\n",
    "## Two Main Options\n",
    "\n",
    "### Option 1: Python.org (Official Distribution)\n",
    "**Best for:** General programming, web development, automation\n",
    "\n",
    "#### Windows:\n",
    "1. Visit python.org/downloads: https://python.org/downloads\n",
    "2. Download latest Python 3.x version\n",
    "3. **Important:** Check \"Add Python to PATH\" during installation\n",
    "4. Verify: Open Command Prompt, type `python --version`\n",
    "\n",
    "#### macOS:\n",
    "1. Visit python.org/downloads: https://python.org/downloads\n",
    "2. Download macOS installer\n",
    "3. Run installer (may need to allow in Security settings)\n",
    "4. Verify: Open Terminal, type `python3 --version`\n",
    "\n",
    "#### Linux:\n",
    "```bash\n",
    "# Ubuntu/Debian (no guarantees)\n",
    "sudo apt update\n",
    "sudo apt install python3 python3-pip\n",
    "\n",
    "# CentOS/RHEL\n",
    "sudo yum install python3 python3-pip\n"
   ]
  },
  {
   "cell_type": "markdown",
   "id": "9a8382be-c072-402d-aa70-9c81cc51117f",
   "metadata": {
    "editable": true,
    "slideshow": {
     "slide_type": "slide"
    },
    "tags": []
   },
   "source": [
    "### Option 2: Anaconda Distribution\n",
    "**Best for:** Data science, machine learning, scientific computing\n",
    "\n",
    "#### All Platforms:\n",
    "1. Visit anaconda.com/download: https://anaconda.com/download\n",
    "2. Download Anaconda installer for your OS\n",
    "3. Run installer (3+ GB download)\n",
    "4. Includes: Python + 250+ packages + Jupyter + Spyder IDE\n",
    "\n",
    "#### What You Get:\n",
    "- Python interpreter\n",
    "- Conda package manager\n",
    "- Jupyter Notebook/Lab\n",
    "- Popular libraries: NumPy, Pandas, Matplotlib, Scikit-learn\n",
    "- Anaconda Navigator (GUI)\n"
   ]
  },
  {
   "attachments": {
    "56b3f8f0-250b-4d08-ac72-df66622c857f.png": {
     "image/png": "[encoded data removed]"
    },
    "8e75f298-6fae-4b15-a33a-59f030b8ebfe.png": {
     "image/png": "[encoded data removed]"
    }
   },
   "cell_type": "markdown",
   "id": "ba01ef74-8977-464a-b31e-a9adc6713382",
   "metadata": {
    "editable": true,
    "slideshow": {
     "slide_type": "slide"
    },
    "tags": []
   },
   "source": [
    "# Python.org:\n",
    "\n",
    "![image.png](attachment:8e75f298-6fae-4b15-a33a-59f030b8ebfe.png)\n",
    "\n",
    "# Spyder (included in Anaconda):\n",
    "\n",
    "![image.png](attachment:56b3f8f0-250b-4d08-ac72-df66622c857f.png)"
   ]
  },
  {
   "cell_type": "markdown",
   "id": "d8409fcc-ee3d-4c80-86b7-ea7dde71cfd9",
   "metadata": {
    "editable": true,
    "slideshow": {
     "slide_type": "slide"
    },
    "tags": []
   },
   "source": [
    "# Python Data Types\n",
    "\n",
    "## Basic Data Types\n",
    "\n",
    "### Numeric Types\n",
    "```python \n",
    "# Integer\n",
    "age = 25\n",
    "count = -10\n",
    "\n",
    "### Float (decimal numbers)\n",
    "price = 19.99\n",
    "temperature = -5.5\n",
    "\n",
    "### Complex (rarely used)\n",
    "complex_num = 3 + 4j\n",
    "\n",
    "### Number operations\n",
    "basic_ops  = 100 + 200 - 20.4\n",
    "mul_div = (10 * 200)/2\n",
    "power = pow(2,4) # or 2**4\n",
    "modulo = 4 % 3"
   ]
  },
  {
   "cell_type": "markdown",
   "id": "00a3f5d0-160c-4e49-9b66-6d66b673e007",
   "metadata": {
    "editable": true,
    "slideshow": {
     "slide_type": "slide"
    },
    "tags": []
   },
   "source": [
    "```python \n",
    "# String\n",
    "name = \"Alice\"\n",
    "message = &#x27;Hello, World!&#x27;\n",
    "multiline = \"\"\"This is a\n",
    "multi-line string\"\"\"\n",
    "\n",
    "\n",
    "# String operations\n",
    "full_name = \"John\" + \" \" + \"Doe\" # John Doe\n",
    "\n",
    "repeated = \"Ha\" * 3  # \"HaHaHa\"\n",
    "\n",
    "\"#\" are line comments, everything after it is human text and will ignored by python \n",
    "# Boolean (True/False)\n",
    "is_student = True\n",
    "has_license = False\n"
   ]
  },
  {
   "cell_type": "markdown",
   "id": "60d26101-de26-4608-bea1-b51524b4aefc",
   "metadata": {
    "editable": true,
    "slideshow": {
     "slide_type": "slide"
    },
    "tags": []
   },
   "source": [
    "```python\n",
    "# Converting between types\n",
    "num_str = \"123\"\n",
    "num_int = int(num_str)      # 123\n",
    "num_float = float(num_str)  # 123.0\n",
    "\n",
    "# Converting to string\n",
    "age = 25\n",
    "age_str = str(age)          # \"25\"\n",
    "\n",
    "# Converting to list\n",
    "name = \"Python\"\n",
    "letters = list(name)        #['P', 'y', 't', 'h', 'o', 'n']\n"
   ]
  },
  {
   "cell_type": "markdown",
   "id": "b29d4134-5330-4249-bd17-1bf178515ceb",
   "metadata": {
    "editable": true,
    "slideshow": {
     "slide_type": "slide"
    },
    "tags": []
   },
   "source": [
    "# Python Data Structures"
   ]
  },
  {
   "cell_type": "markdown",
   "id": "58d3a77a-b4eb-410b-92d3-bd4ab51293f4",
   "metadata": {
    "editable": true,
    "slideshow": {
     "slide_type": "slide"
    },
    "tags": []
   },
   "source": [
    "```python\n",
    "## Lists can hold different data types\n",
    "fruits = [\"apple\", \"banana\", \"orange\"]\n",
    "numbers = [1, 2, 3, 4, 5]\n",
    "mixed = [1, \"hello\", True, 3.14]\n",
    "\n",
    "## List operations (Not Exhaustive)\n",
    "fruits.append(\"grape\")  # Add item\n",
    "fruits[0] = \"pear\"      # Change item\n",
    "fruits.pop() # removes last item from list"
   ]
  },
  {
   "cell_type": "markdown",
   "id": "110b7615-b53b-4a02-872f-1e7c1a6537fe",
   "metadata": {
    "editable": true,
    "slideshow": {
     "slide_type": "slide"
    },
    "tags": []
   },
   "source": [
    "```python\n",
    "# Dictionaries store data as key-value pairs\n",
    "student = {\n",
    "    \"name\": \"Bob\",\n",
    "    \"age\": 20,\n",
    "    \"grade\": \"A\",\n",
    "    \"courses\": [\"Math\", \"Science\"]\n",
    "}\n",
    "\n",
    "# Accessing values\n",
    "print(student[\"name\"])        # \"Bob\"\n",
    "student[\"age\"] = 21          # Update value\n",
    "student[\"email\"] = \"bob@email.com\"  # Add new key\n"
   ]
  },
  {
   "cell_type": "markdown",
   "id": "5ddbbb5e-1e93-4264-ba82-98d79693229a",
   "metadata": {
    "editable": true,
    "slideshow": {
     "slide_type": "slide"
    },
    "tags": []
   },
   "source": [
    "```python\n",
    "# Tuples cannot be changed after creation\n",
    "coordinates = (10, 20)\n",
    "rgb_color = (255, 128, 0)\n",
    "person = (\"Alice\", 25, \"Engineer\")\n",
    "\n",
    "# Tuple unpacking\n",
    "x, y = coordinates\n",
    "name, age, job = person\n"
   ]
  },
  {
   "cell_type": "markdown",
   "id": "d79689fc-d25d-4953-9026-35c32b0d2d60",
   "metadata": {
    "editable": true,
    "slideshow": {
     "slide_type": "slide"
    },
    "tags": []
   },
   "source": [
    "```python\n",
    "# Sets automatically remove duplicates\n",
    "unique_numbers = {1, 2, 3, 3, 4}  # {1, 2, 3, 4}\n",
    "colors = {\"red\", \"blue\", \"green\"}\n",
    "\n",
    "# Set operations\n",
    "colors.add(\"yellow\")\n",
    "colors.remove(\"red\")\n"
   ]
  },
  {
   "cell_type": "markdown",
   "id": "89be1c39-75c4-4cf6-9ffb-99dcb71f4939",
   "metadata": {
    "editable": true,
    "slideshow": {
     "slide_type": "slide"
    },
    "tags": []
   },
   "source": [
    "# Python Conditionals\n",
    "```python\n",
    "## Note: Python is white space sensitive.\n",
    "\n",
    "## Basic If Statement\n",
    "\n",
    "age = 18\n",
    "\n",
    "if age >= 18:\n",
    "    print(\"You can vote!\")\n",
    "    print(\"You are an adult\")\n",
    "\n",
    "\n",
    "score = 85\n",
    "\n",
    "if score >= 90:\n",
    "    grade = \"A\"\n",
    "elif score >= 80:\n",
    "    grade = \"B\"\n",
    "elif score >= 70:\n",
    "    grade = \"C\"\n",
    "elif score >= 60:\n",
    "    grade = \"D\"\n",
    "else:\n",
    "    grade = \"F\"\n",
    "\n",
    "print(f\"Your grade is: {grade}\")\n",
    "\n"
   ]
  },
  {
   "cell_type": "markdown",
   "id": "ca6b779d-8615-47d9-bca9-dce74018c506",
   "metadata": {
    "editable": true,
    "slideshow": {
     "slide_type": "slide"
    },
    "tags": []
   },
   "source": [
    "```python \n",
    "# Equal to\n",
    "x = 10 \\\n",
    "y = 20\n",
    "x == y          # False\n",
    "\n",
    "# Not equal to\n",
    "x != y          # True\n",
    "\n",
    "# Greater than / Less than\n",
    "x > y           # False \\\n",
    "x < y           # True\n",
    "\n",
    "# Greater than or equal / Less than or equal\n",
    "x >= 10         # True \\\n",
    "x <= 5          # False\n"
   ]
  },
  {
   "cell_type": "markdown",
   "id": "d21467fd-b963-4e5d-a19d-5cda01c3f3cd",
   "metadata": {
    "editable": true,
    "slideshow": {
     "slide_type": "slide"
    },
    "tags": []
   },
   "source": [
    "```python\n",
    "age = 25\n",
    "has_license = True\n",
    "has_car = False\n",
    "\n",
    "# AND - both conditions must be True\n",
    "if age >= 18 and has_license:\n",
    "    print(\"Can drive legally\")\n",
    "\n",
    "# OR - at least one condition must be True\n",
    "if has_license or age >= 21:\n",
    "    print(\"Some driving privilege\")\n",
    "\n",
    "# NOT - reverses the boolean value\n",
    "if not has_car:\n",
    "    print(\"Needs to buy a car\")\n",
    "\n",
    "\n",
    "---------------\n",
    "\n",
    "username = \"admin\"\n",
    "password = \"secret123\"\n",
    "is_active = True\n",
    "\n",
    "if username == \"admin\" and password == \"secret123\" and is_active:\n",
    "    print(\"Access granted\")\n",
    "elif username == \"admin\" and password == \"secret123\":\n",
    "    print(\"Account is inactive\")\n",
    "elif username == \"admin\":\n",
    "    print(\"Wrong password\")\n",
    "else:\n",
    "    print(\"Invalid username\")\n",
    "\n"
   ]
  },
  {
   "cell_type": "markdown",
   "id": "1d6fd617-3953-4594-8df3-68dd3834d001",
   "metadata": {
    "editable": true,
    "slideshow": {
     "slide_type": "slide"
    },
    "tags": []
   },
   "source": [
    "```python\n",
    "weather = \"sunny\"\n",
    "temperature = 75\n",
    "\n",
    "if weather == \"sunny\":\n",
    "    if temperature > 70:\n",
    "        print(\"Perfect day for the beach!\")\n",
    "    else:\n",
    "        print(\"Sunny but a bit cold\")\n",
    "else:\n",
    "    print(\"Not a sunny day\")\n",
    "\n",
    "--------------\n",
    "age = 20\n",
    "\n",
    "# Traditional if-else\n",
    "if age >= 18:\n",
    "    status = \"adult\"\n",
    "else:\n",
    "    status = \"minor\"\n",
    "\n",
    "# Ternary operator (shorter)\n",
    "status = \"adult\" if age >= 18 else \"minor\"\n",
    "\n",
    "# Another example\n",
    "max_value = x if x > y else y\n",
    "\n"
   ]
  },
  {
   "cell_type": "markdown",
   "id": "308a46ae-c29e-4db9-b057-5a4ca8550c57",
   "metadata": {
    "editable": true,
    "slideshow": {
     "slide_type": "slide"
    },
    "tags": []
   },
   "source": [
    "```python\n",
    "# Checking for empty values\n",
    "name = input(\"Enter your name: \")\n",
    "if name:  # True if name is not empty\n",
    "    print(f\"Hello, {name}!\")\n",
    "else:\n",
    "    print(\"No name provided\")\n",
    "\n",
    "# Checking multiple values\n",
    "day = \"Monday\"\n",
    "if day in [\"Saturday\", \"Sunday\"]:\n",
    "    print(\"It&#x27;s weekend!\")\n",
    "else:\n",
    "    print(\"It&#x27;s a weekday\")\n",
    "\n",
    "# Range checking\n",
    "score = 85\n",
    "if 80 <= score <= 90:\n",
    "    print(\"Good score!\")\n"
   ]
  },
  {
   "cell_type": "markdown",
   "id": "096c70ac-0031-4685-89e6-aceca797a1eb",
   "metadata": {
    "editable": true,
    "slideshow": {
     "slide_type": "slide"
    },
    "tags": []
   },
   "source": [
    "# Python Loops\n",
    "\n",
    "## For Loops\n",
    "\n",
    "### Basic For Loop with Range\n",
    "```python\n",
    "# Print numbers 0 to 4\n",
    "for i in range(5):\n",
    "    print(i)\n",
    "\n",
    "# Print numbers 1 to 5\n",
    "for i in range(1, 6):\n",
    "    print(i)\n",
    "\n",
    "# Print even numbers from 0 to 10\n",
    "for i in range(0, 11, 2):\n",
    "    print(i)  # 0, 2, 4, 6, 8, 10\n"
   ]
  },
  {
   "cell_type": "markdown",
   "id": "81979f57-67a7-428d-a2b6-781a7cb399c7",
   "metadata": {
    "editable": true,
    "slideshow": {
     "slide_type": "slide"
    },
    "tags": []
   },
   "source": [
    "```python\n",
    "fruits = [\"apple\", \"banana\", \"orange\", \"grape\"]\n",
    "\n",
    "# Method 1: Direct iteration\n",
    "for fruit in fruits:\n",
    "    print(f\"I like {fruit}\")\n",
    "\n",
    "# Method 2: Using index\n",
    "for i in range(len(fruits)):\n",
    "    print(f\"{i}: {fruits[i]}\")\n",
    "\n",
    "# Method 3: Using enumerate (best practice)\n",
    "for index, fruit in enumerate(fruits):\n",
    "    print(f\"{index}: {fruit}\")\n",
    "\n",
    "\n",
    "-------------\n",
    "\n",
    "word = \"Python\"\n",
    "\n",
    "for letter in word:\n",
    "    print(letter)  # P, y, t, h, o, n\n",
    "\n",
    "# With index\n",
    "for i, letter in enumerate(word):\n",
    "    print(f\"Position {i}: {letter}\")\n"
   ]
  },
  {
   "cell_type": "markdown",
   "id": "98f85fb4-49e2-4377-9214-9dd4fb6449b1",
   "metadata": {
    "editable": true,
    "slideshow": {
     "slide_type": "slide"
    },
    "tags": []
   },
   "source": [
    "```python\n",
    "student = {\"name\": \"Alice\", \"age\": 20, \"grade\": \"A\"}\n",
    "\n",
    "# Loop through keys\n",
    "for key in student:\n",
    "    print(key)\n",
    "\n",
    "# Loop through values\n",
    "for value in student.values():\n",
    "    print(value)\n",
    "\n",
    "# Loop through key-value pairs\n",
    "for key, value in student.items():\n",
    "    print(f\"{key}: {value}\")\n",
    "\n",
    "\n",
    "------------\n",
    "\n",
    "password = \"\"\n",
    "while password != \"secret\":\n",
    "    password = input(\"Enter password: \")\n",
    "    if password != \"secret\":\n",
    "        print(\"Wrong password, try again\")\n",
    "\n",
    "print(\"Access granted!\")\n",
    "\n"
   ]
  },
  {
   "cell_type": "markdown",
   "id": "331275a7-b78b-4bb3-91b3-8a952792bdfa",
   "metadata": {
    "editable": true,
    "slideshow": {
     "slide_type": "slide"
    },
    "tags": []
   },
   "source": [
    "```python\n",
    "# Sum numbers until user enters 0\n",
    "total = 0\n",
    "number = 1\n",
    "\n",
    "while number != 0:\n",
    "    number = int(input(\"Enter a number (0 to stop): \"))\n",
    "    total += number\n",
    "\n",
    "print(f\"Total sum: {total}\")\n",
    "\n",
    "\n",
    "----------------\n",
    "\n",
    "# Exit loop early\n",
    "for i in range(10):\n",
    "    if i == 5:\n",
    "        break  # Exit loop when i equals 5\n",
    "    print(i)  # Prints 0, 1, 2, 3, 4\n",
    "\n",
    "# Finding first even number\n",
    "numbers = [1, 3, 7, 8, 9, 12]\n",
    "for num in numbers:\n",
    "    if num % 2 == 0:\n",
    "        print(f\"First even number: {num}\")\n",
    "        break\n",
    "\n"
   ]
  },
  {
   "cell_type": "markdown",
   "id": "acddbfb4-9d34-4351-899a-1657c9a53b24",
   "metadata": {
    "editable": true,
    "slideshow": {
     "slide_type": "slide"
    },
    "tags": []
   },
   "source": [
    "````python\n",
    "\n",
    "# Else executes if loop completes normally (no break)\n",
    "for i in range(5):\n",
    "    print(i)\n",
    "else:\n",
    "    print(\"Loop completed normally\")\n",
    "\n",
    "# Practical example: searching\n",
    "numbers = [1, 3, 5, 7, 9]\n",
    "target = 4\n",
    "\n",
    "for num in numbers:\n",
    "    if num == target:\n",
    "        print(f\"Found {target}!\")\n",
    "        break\n",
    "else:\n",
    "    print(f\"{target} not found in the list\")\n"
   ]
  },
  {
   "cell_type": "markdown",
   "id": "5fb20e67-8ebb-4490-bcfa-59c8a82909a4",
   "metadata": {
    "editable": true,
    "slideshow": {
     "slide_type": "slide"
    },
    "tags": []
   },
   "source": [
    "```python\n",
    "matrix = [\n",
    "    [1, 2, 3],\n",
    "    [4, 5, 6],\n",
    "    [7, 8, 9]\n",
    "]\n",
    "\n",
    "for row in matrix:\n",
    "    for element in row:\n",
    "        print(element, end=\" \")\n",
    "    print()  # New line after each row\n",
    "\n",
    "------------\n",
    "\n",
    "# Traditional way\n",
    "squares = []\n",
    "for i in range(10):\n",
    "    squares.append(i ** 2)\n",
    "\n",
    "# List comprehension (more Pythonic)\n",
    "squares = [i ** 2 for i in range(10)]\n",
    "\n",
    "# With condition\n",
    "even_squares = [i ** 2 for i in range(10) if i % 2 == 0]\n",
    "\n",
    "-------------\n",
    "\n",
    "# Count occurrences\n",
    "text = \"hello world\"\n",
    "count = 0\n",
    "for char in text:\n",
    "    if char == &#x27;l&#x27;:\n",
    "        count += 1\n",
    "print(f\"Letter &#x27;l&#x27; appears {count} times\")\n",
    "\n"
   ]
  },
  {
   "cell_type": "code",
   "execution_count": 28,
   "id": "b26afb10-d297-491a-9298-90d0fc02f4c3",
   "metadata": {
    "editable": true,
    "slideshow": {
     "slide_type": "slide"
    },
    "tags": []
   },
   "outputs": [
    {
     "name": "stdin",
     "output_type": "stream",
     "text": [
      "Guess a number (1-100):  50\n"
     ]
    },
    {
     "name": "stdout",
     "output_type": "stream",
     "text": [
      "Too low!\n"
     ]
    },
    {
     "name": "stdin",
     "output_type": "stream",
     "text": [
      "Guess a number (1-100):  75\n"
     ]
    },
    {
     "name": "stdout",
     "output_type": "stream",
     "text": [
      "Too high!\n"
     ]
    },
    {
     "name": "stdin",
     "output_type": "stream",
     "text": [
      "Guess a number (1-100):  65\n"
     ]
    },
    {
     "name": "stdout",
     "output_type": "stream",
     "text": [
      "Too low!\n"
     ]
    },
    {
     "name": "stdin",
     "output_type": "stream",
     "text": [
      "Guess a number (1-100):  70\n"
     ]
    },
    {
     "name": "stdout",
     "output_type": "stream",
     "text": [
      "Too low!\n"
     ]
    },
    {
     "name": "stdin",
     "output_type": "stream",
     "text": [
      "Guess a number (1-100):  73\n"
     ]
    },
    {
     "name": "stdout",
     "output_type": "stream",
     "text": [
      "Too low!\n"
     ]
    },
    {
     "name": "stdin",
     "output_type": "stream",
     "text": [
      "Guess a number (1-100):  74\n"
     ]
    },
    {
     "name": "stdout",
     "output_type": "stream",
     "text": [
      "Correct! You got it in 6 attempts!\n"
     ]
    }
   ],
   "source": [
    "# Working example #1\n",
    "import random\n",
    "\n",
    "secret_number = random.randint(1, 100)\n",
    "attempts = 0\n",
    "\n",
    "while True:\n",
    "    guess = int(input(\"Guess a number (1-100): \"))\n",
    "    attempts += 1\n",
    "\n",
    "    if guess == secret_number:\n",
    "        print(f\"Correct! You got it in {attempts} attempts!\")\n",
    "        break\n",
    "    elif guess < secret_number:\n",
    "        print(\"Too low!\")\n",
    "    else:\n",
    "        print(\"Too high!\")\n"
   ]
  },
  {
   "cell_type": "code",
   "execution_count": 26,
   "id": "3cb1b521-0400-4dcf-9c9d-17a3adbb731d",
   "metadata": {
    "editable": true,
    "slideshow": {
     "slide_type": "slide"
    },
    "tags": []
   },
   "outputs": [
    {
     "name": "stdin",
     "output_type": "stream",
     "text": [
      "Create a password:  JLKadflka88!!\n"
     ]
    },
    {
     "name": "stdout",
     "output_type": "stream",
     "text": [
      "Strong password!\n"
     ]
    }
   ],
   "source": [
    "# Working example #1 2\n",
    "password = input(\"Create a password: \")\n",
    "\n",
    "has_upper = False\n",
    "has_lower = False\n",
    "has_digit = False\n",
    "\n",
    "for char in password:\n",
    "    if char.isupper():\n",
    "        has_upper = True\n",
    "    elif char.islower():\n",
    "        has_lower = True\n",
    "    elif char.isdigit():\n",
    "        has_digit = True\n",
    "\n",
    "if len(password) >= 8 and has_upper and has_lower and has_digit:\n",
    "    print(\"Strong password!\")\n",
    "else:\n",
    "    print(\"Password needs: 8+ chars, uppercase, lowercase, and digit\")\n"
   ]
  },
  {
   "cell_type": "markdown",
   "id": "16fe8b54-f3c5-49be-ac6e-50ad9cbad497",
   "metadata": {
    "editable": true,
    "slideshow": {
     "slide_type": "slide"
    },
    "tags": []
   },
   "source": [
    "# Python Modules and Imports\n",
    "\n",
    "## What are Modules?\n",
    "Modules are files containing Python code that can be imported and used in other programs.  \n",
    "They help organize code and provide reusable functionality.\n",
    "\n",
    "## Types of Modules\n",
    "- **Built-in modules**: Come with Python (math, random, datetime)\n",
    "- **Third-party modules**: Installed via pip (requests, pandas, numpy)\n",
    "- **Custom modules**: Your own Python files\n",
    "\n",
    "## Basic Import Syntax\n",
    "\n",
    "### Import Entire Module\n",
    "```python\n",
    "import math\n",
    "\n",
    "# Use module.function()\n",
    "result = math.sqrt(16)  # 4.0\n",
    "pi_value = math.pi      # 3.141592653589793\n"
   ]
  },
  {
   "cell_type": "markdown",
   "id": "95975f75-57fa-4eee-9f8a-d79f198ce7e8",
   "metadata": {
    "editable": true,
    "slideshow": {
     "slide_type": "slide"
    },
    "tags": []
   },
   "source": [
    "```python\n",
    "# Import multiple items\n",
    "from math import sqrt, pi, sin, cos\n",
    "\n",
    "# Import with different names\n",
    "from datetime import datetime as dt\n",
    "from pandas import DataFrame as df\n",
    "\n",
    "# Import all functions from a module (use sparingly, not recommended, will make people angry!)\n",
    "from math import *\n",
    "\n",
    "# Check what&#x27;s available in a module\n",
    "import math\n",
    "print(dir(math))  # Lists all functions and constants\n"
   ]
  },
  {
   "cell_type": "markdown",
   "id": "407050ab-bd99-478c-b7bc-37a9124d8046",
   "metadata": {
    "editable": true,
    "slideshow": {
     "slide_type": "slide"
    },
    "tags": []
   },
   "source": [
    "# BONUS\n",
    "# Python Package Management with pip\n",
    "\n",
    "## What is pip?\n",
    "pip (Pip Installs Packages) is Python's package installer.  \n",
    "It downloads and installs packages from the Python Package Index (PyPI).\n",
    "\n",
    "## Basic pip Commands\n",
    "\n",
    "### Installing Packages\n",
    "```bash\n",
    "# Install a package\n",
    "pip install requests\n",
    "\n",
    "# Install specific version\n",
    "pip install requests==2.31.0\n",
    "\n",
    "# Highly recommend using uv\n",
    "pip install uv\n",
    "# Then do \n",
    "uv add requests\n"
   ]
  },
  {
   "cell_type": "markdown",
   "id": "622434c9-a5e3-4633-8ee2-ce1f1dc94357",
   "metadata": {
    "editable": true,
    "slideshow": {
     "slide_type": "slide"
    },
    "tags": []
   },
   "source": [
    "# Popular Python Libraries\n",
    "\n",
    "###651,761 distinct packages as of 6/27/2025\n",
    "\n",
    "## Data Science & Analytics\n",
    "- **pandas**: https://pandas.pydata.org/ - Data manipulation and analysis\n",
    "- **polars**: https://pola.rs/ - pandas competitor\n",
    "- **numpy**: https://numpy.org/ - Numerical computing with arrays\n",
    "- **matplotlib**: https://matplotlib.org/ - Data visualization and plotting\n",
    "- **seaborn**: https://seaborn.pydata.org/ - Statistical data visualization\n",
    "- **plotly**: https://plotly.com/python/ - Interactive visualizations\n",
    "- **scipy**: https://scipy.org/ - Scientific computing\n",
    "- **jupyter**: https://jupyter.org/ - Interactive notebooks\n",
    "\n",
    "## Web Development\n",
    "- **flask**: https://flask.palletsprojects.com/ - Lightweight web framework\n",
    "- **django**: https://www.djangoproject.com/ - Full-featured web framework\n",
    "- **requests**: https://requests.readthedocs.io/ - HTTP library\n",
    "- **beautifulsoup4**: https://www.crummy.com/software/BeautifulSoup/ - Web scraping\n",
    "- **selenium**: https://selenium-python.readthedocs.io/ - Web browser automation\n",
    "- **streamlit**: https://streamlit.io/ - Create web apps for data science\n",
    "\n",
    "## Database & Storage\n",
    "- **sqlalchemy**: https://www.sqlalchemy.org/ - SQL toolkit and ORM\n",
    "- **psycopg2**: https://www.psycopg.org/ - PostgreSQL adapter\n",
    "- **sqlite3**: Built-in - SQLite database interface\n",
    "\n",
    "## API & Networking\n",
    "- **requests**: https://requests.readthedocs.io/ - HTTP requests\n",
    "- **httpx**: https://www.python-httpx.org/ - Async HTTP client\n",
    "- **aiohttp**: https://docs.aiohttp.org/ - Async HTTP client/server\n",
    "- **websockets**: https://websockets.readthedocs.io/ - WebSocket implementation\n",
    "- **paramiko**: https://www.paramiko.org/ - SSH client\n",
    "\n",
    "## Automation & Scripting\n",
    "- **schedule**: https://schedule.readthedocs.io/ - Job scheduling\n",
    "- **click**: https://click.palletsprojects.com/ - Command line interfaces\n",
    "- **argparse**: Built-in - Command line argument parsing\n",
    "- **pathlib**: Built-in - Object-oriented filesystem paths\n",
    "- **shutil**: Built-in - High-level file operations\n",
    "\n",
    "## Machine Learning & AI\n",
    "- **tensorflow**: https://www.tensorflow.org/ - Deep learning framework\n",
    "- **pytorch**: https://pytorch.org/ - Deep learning framework\n",
    "- **keras**: https://keras.io/ - High-level neural networks API\n",
    "- **transformers**: https://huggingface.co/transformers/ - NLP models\n",
    "- **opencv-python**: https://opencv.org/ - Computer vision\n",
    "\n",
    "## Utility Libraries\n",
    "- **python-dotenv**: https://python-dotenv.readthedocs.io/ - Load environment variables\n",
    "- **tqdm**: https://tqdm.github.io/ - Progress bars\n",
    "- **rich**: https://rich.readthedocs.io/ - Rich text and beautiful formatting\n",
    "- **colorama**: https://pypi.org/project/colorama/ - Cross-platform colored terminal text\n",
    "- **pydantic**: https://pydantic-docs.helpmanual.io/ - Data validation\n",
    "\n",
    "## Security & Cryptography\n",
    "- **cryptography**: https://cryptography.io/ - Cryptographic recipes\n",
    "- **hashlib**: Built-in - Secure hash and message digest\n",
    "- **secrets**: Built-in - Generate secure random numbers\n",
    "- **bcrypt**: https://github.com/pyca/bcrypt/ - Password hashing\n"
   ]
  }
 ],
 "metadata": {
  "kernelspec": {
   "display_name": "Python 3 (ipykernel)",
   "language": "python",
   "name": "python3"
  },
  "language_info": {
   "codemirror_mode": {
    "name": "ipython",
    "version": 3
   },
   "file_extension": ".py",
   "mimetype": "text/x-python",
   "name": "python",
   "nbconvert_exporter": "python",
   "pygments_lexer": "ipython3",
   "version": "3.13.3"
  }
 },
 "nbformat": 4,
 "nbformat_minor": 5
}
